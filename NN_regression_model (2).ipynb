{
  "nbformat": 4,
  "nbformat_minor": 0,
  "metadata": {
    "colab": {
      "provenance": []
    },
    "kernelspec": {
      "name": "python3",
      "display_name": "Python 3"
    },
    "language_info": {
      "name": "python"
    }
  },
  "cells": [
    {
      "cell_type": "code",
      "execution_count": null,
      "metadata": {
        "id": "VJOBET7aZuAs"
      },
      "outputs": [],
      "source": [
        "import torch\n",
        "import torch.nn as nn\n",
        "import torch.optim as optim\n",
        "import pandas as pd\n",
        "from sklearn.model_selection import train_test_split\n",
        "from sklearn.preprocessing import MinMaxScaler"
      ]
    },
    {
      "cell_type": "code",
      "source": [
        "dataset1 = pd.read_csv('dp3.csv')\n",
        "X = dataset1[['INPUT']].values\n",
        "y = dataset1[['OUTPUT']].values"
      ],
      "metadata": {
        "id": "PaKxT9lYZ7_r"
      },
      "execution_count": null,
      "outputs": []
    },
    {
      "cell_type": "code",
      "source": [
        "X_train, X_test, y_train, y_test = train_test_split(X, y, test_size=0.33, random_state=33)"
      ],
      "metadata": {
        "id": "0s9XNKnraBB1"
      },
      "execution_count": null,
      "outputs": []
    },
    {
      "cell_type": "code",
      "source": [
        "scaler = MinMaxScaler()\n",
        "X_train = scaler.fit_transform(X_train)\n",
        "X_test = scaler.transform(X_test)"
      ],
      "metadata": {
        "id": "YhvC6ogzaEHT"
      },
      "execution_count": null,
      "outputs": []
    },
    {
      "cell_type": "code",
      "source": [
        "X_train_tensor = torch.tensor(X_train, dtype=torch.float32)\n",
        "y_train_tensor = torch.tensor(y_train, dtype=torch.float32).view(-1, 1)\n",
        "X_test_tensor = torch.tensor(X_test, dtype=torch.float32)\n",
        "y_test_tensor = torch.tensor(y_test, dtype=torch.float32).view(-1, 1)"
      ],
      "metadata": {
        "id": "ht0VjANUaImU"
      },
      "execution_count": null,
      "outputs": []
    },
    {
      "cell_type": "code",
      "source": [
        "# Name: GUGHAN S\n",
        "# Register Number: 212223240043\n",
        "class NeuralNet(nn.Module):\n",
        "  def __init__(self):\n",
        "        super().__init__()\n",
        "        self.fc1=nn.Linear(1,8)\n",
        "        self.fc2=nn.Linear(8,10)\n",
        "        self.fc3=nn.Linear(10,1)\n",
        "        self.relu=nn.ReLU()\n",
        "        self.history={'loss':[]}\n",
        "  def forward(self,x):\n",
        "    x=self.relu(self.fc1(x))\n",
        "    x=self.relu(self.fc2(x))\n",
        "    x=self.fc3(x)\n",
        "    return x\n",
        "\n",
        "\n",
        "\n"
      ],
      "metadata": {
        "id": "sFkMMUXwIsxs"
      },
      "execution_count": null,
      "outputs": []
    },
    {
      "cell_type": "code",
      "source": [
        "ai_brain = NeuralNet()\n",
        "criterion=nn.MSELoss()\n",
        "optimizer=optim.RMSprop(ai_brain.parameters(), lr=0.001)"
      ],
      "metadata": {
        "id": "LYCcZwd3aVXr"
      },
      "execution_count": null,
      "outputs": []
    },
    {
      "cell_type": "code",
      "source": [
        "# Name: GUGHAN S\n",
        "# Register Number:212223240043\n",
        "def train_model(ai_brain, X_train, y_train, criterion, optimizer, epochs=2000):\n",
        "    for epoch in range(epochs):\n",
        "        optimizer.zero_grad()\n",
        "        loss = criterion(ai_brain(X_train), y_train)\n",
        "        loss.backward()\n",
        "        optimizer.step()\n",
        "\n",
        "        # Append loss inside the loop\n",
        "        ai_brain.history['loss'].append(loss.item())\n",
        "\n",
        "        if epoch % 200 == 0:\n",
        "            print(f'Epoch [{epoch}/{epochs}], Loss: {loss.item():.6f}')\n",
        "\n",
        "\n",
        "\n",
        "\n",
        "\n"
      ],
      "metadata": {
        "id": "j04FRGu5aabj"
      },
      "execution_count": null,
      "outputs": []
    },
    {
      "cell_type": "code",
      "source": [
        "train_model(ai_brain, X_train_tensor, y_train_tensor, criterion, optimizer)\n"
      ],
      "metadata": {
        "id": "3nT2R4-NanGb",
        "colab": {
          "base_uri": "https://localhost:8080/"
        },
        "outputId": "57fc6281-7e9a-4c73-d342-8de7f4363f6f"
      },
      "execution_count": null,
      "outputs": [
        {
          "output_type": "stream",
          "name": "stdout",
          "text": [
            "Epoch [0/2000], Loss: 125.273384\n",
            "Epoch [200/2000], Loss: 66.738838\n",
            "Epoch [400/2000], Loss: 21.975723\n",
            "Epoch [600/2000], Loss: 13.891627\n",
            "Epoch [800/2000], Loss: 10.445895\n",
            "Epoch [1000/2000], Loss: 6.034560\n",
            "Epoch [1200/2000], Loss: 2.176466\n",
            "Epoch [1400/2000], Loss: 0.192727\n",
            "Epoch [1600/2000], Loss: 0.000096\n",
            "Epoch [1800/2000], Loss: 0.000072\n"
          ]
        }
      ]
    },
    {
      "cell_type": "code",
      "source": [
        "with torch.no_grad():\n",
        "    test_loss = criterion(ai_brain(X_test_tensor), y_test_tensor)\n",
        "    print(f'Test Loss: {test_loss.item():.6f}')\n"
      ],
      "metadata": {
        "id": "Hs52rJD-aq-r",
        "colab": {
          "base_uri": "https://localhost:8080/"
        },
        "outputId": "737a7bab-f57c-46a8-971c-4eeac4878caa"
      },
      "execution_count": null,
      "outputs": [
        {
          "output_type": "stream",
          "name": "stdout",
          "text": [
            "Test Loss: 0.001452\n"
          ]
        }
      ]
    },
    {
      "cell_type": "code",
      "source": [
        "loss_df = pd.DataFrame(ai_brain.history)"
      ],
      "metadata": {
        "id": "fSU0R1jPYzBY"
      },
      "execution_count": null,
      "outputs": []
    },
    {
      "cell_type": "code",
      "source": [
        "import matplotlib.pyplot as plt\n",
        "loss_df.plot()\n",
        "plt.xlabel(\"Epochs\")\n",
        "plt.ylabel(\"Loss\")\n",
        "plt.title(\"Loss during Training\")\n",
        "plt.show()"
      ],
      "metadata": {
        "id": "XRU1WLwAZuh4",
        "colab": {
          "base_uri": "https://localhost:8080/",
          "height": 472
        },
        "outputId": "3c620526-e9c5-4f29-dc88-7a06db64a09c"
      },
      "execution_count": null,
      "outputs": [
        {
          "output_type": "display_data",
          "data": {
            "text/plain": [
              "<Figure size 640x480 with 1 Axes>"
            ],
            "image/png": "[encoded data removed]"
          },
          "metadata": {}
        }
      ]
    },
    {
      "cell_type": "code",
      "source": [
        "X_n1_1 = torch.tensor([[11]], dtype=torch.float32)\n",
        "prediction = ai_brain(torch.tensor(scaler.transform(X_n1_1), dtype=torch.float32)).item()\n",
        "print(f'Prediction: {prediction}')"
      ],
      "metadata": {
        "id": "mr_JhBRZauxb",
        "colab": {
          "base_uri": "https://localhost:8080/"
        },
        "outputId": "6afe8941-1a08-486c-8acb-bf044d5c2f8d"
      },
      "execution_count": null,
      "outputs": [
        {
          "output_type": "stream",
          "name": "stdout",
          "text": [
            "Prediction: 22.91448974609375\n"
          ]
        }
      ]
    }
  ]
}